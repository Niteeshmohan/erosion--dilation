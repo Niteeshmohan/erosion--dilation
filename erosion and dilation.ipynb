# Import the necessary packages
import cv2
import numpy as np
from matplotlib import pyplot as plt
# Create the text using cv2.putText
img1 = np.zeros((100, 400), dtype='uint8')
font = cv2.FONT_HERSHEY_SIMPLEX
cv2.putText(img1, 'TheAILearner', (5, 70), font, 2, (255), 5, cv2.LINE_AA)
plt.imshow(img1, cmap='gray')
plt.show()
# Create the structuring element
kernel = np.ones((5, 5), np.uint8)
kernel1 = cv2.getStructuringElement(cv2.MORPH_CROSS, (7, 7))
# Erode the image
image_erode1 = cv2.erode(img1, kernel1)
plt.imshow(image_erode1, cmap='gray')
plt.show()
# Dilate the image
image_dilated1 = cv2.dilate(img1, kernel1)
plt.imshow(image_dilated1, cmap='gray')
plt.show()
